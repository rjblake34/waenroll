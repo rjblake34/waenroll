{
 "cells": [
  {
   "cell_type": "code",
   "execution_count": null,
   "id": "53e5dc38",
   "metadata": {},
   "outputs": [],
   "source": [
    "strategies=['Rock','Paper','Scissors', 'Lizard', 'Spock']"
   ]
  },
  {
   "cell_type": "code",
   "execution_count": null,
   "id": "ed7b4000",
   "metadata": {},
   "outputs": [],
   "source": [
    "payoff={('Rock','Paper'):(0,1),\n",
    "        ('Paper','Rock'):(1,0),\n",
    "        ('Rock','Scissors'):(1,0),\n",
    "        ('Scissors','Rock'):(0,1),\n",
    "        ('Paper','Scissors'):(0,1),\n",
    "        ('Scissors','Paper'):(1,0),\n",
    "        ('Rock','Lizard'):(1,0),\n",
    "        ('Lizard', 'Rock'):(0,1),\n",
    "        ('Spock','Lizard'):(0,1),\n",
    "        ('Lizard', 'Spock'):(1,0),\n",
    "        ('Paper','Lizard'):(0,1),\n",
    "        ('Lizard', 'Paper'):(1,0),\n",
    "        ('Scissors','Lizard'):(1,0),\n",
    "        ('Lizard', 'Scissors'):(0,1),\n",
    "        ('Spock','Scissors'):(1,0),\n",
    "        ('Scissors', 'Spock'):(0,1),\n",
    "        ('Spock','Paper'):(0,1),\n",
    "        ('Paper', 'Spock'):(1,0),\n",
    "        ('Spock','Rock'):(1,0),\n",
    "        ('Rock', 'Spock'):(0,1),\n",
    "        ('Rock','Rock'):(0,0),\n",
    "        ('Paper','Paper'):(0,0),\n",
    "        ('Scissors','Scissors'):(0,0),\n",
    "        ('Lizard','Lizard'):(0,0),\n",
    "        ('Spock','Spock'):(0,0)}"
   ]
  },
  {
   "cell_type": "code",
   "execution_count": null,
   "id": "735525ae",
   "metadata": {},
   "outputs": [],
   "source": [
    "# names of players\n",
    "names=['Leonard','Sheldon','Raj','Howard']\n",
    "# setting up players\n",
    "society=[{'name':n,'score':0,'strategy':None} for n in names]"
   ]
  },
  {
   "cell_type": "code",
   "execution_count": null,
   "id": "dc2dd4cc",
   "metadata": {},
   "outputs": [],
   "source": [
    "# each player a dict:\n",
    "society"
   ]
  },
  {
   "cell_type": "code",
   "execution_count": null,
   "id": "9d3945c1",
   "metadata": {},
   "outputs": [],
   "source": [
    "# resetting society\n",
    "society=[{'name':n,'score':0,'strategy':None} for n in names]\n",
    "\n",
    "# several rounds\n",
    "for aRound in range(100):\n",
    "    \n",
    "    # en each round:\n",
    "    for player1,player2 in itertools.combinations(society,2):\n",
    "        # each chooses strategy\n",
    "        player1['strategy']=choice(strategies)\n",
    "        player2['strategy']=choice(strategies)\n",
    "        # result from strategy chosen\n",
    "        result=payoff[player1['strategy'],player2['strategy']]\n",
    "        # update scores\n",
    "        player1['score']+=result[0]\n",
    "        player2['score']+=result[1]\n"
   ]
  },
  {
   "cell_type": "code",
   "execution_count": null,
   "id": "d7a1fc26",
   "metadata": {},
   "outputs": [],
   "source": []
  },
  {
   "cell_type": "code",
   "execution_count": null,
   "id": "7fffce95",
   "metadata": {},
   "outputs": [],
   "source": []
  }
 ],
 "metadata": {
  "kernelspec": {
   "display_name": "Python 3 (ipykernel)",
   "language": "python",
   "name": "python3"
  },
  "language_info": {
   "codemirror_mode": {
    "name": "ipython",
    "version": 3
   },
   "file_extension": ".py",
   "mimetype": "text/x-python",
   "name": "python",
   "nbconvert_exporter": "python",
   "pygments_lexer": "ipython3",
   "version": "3.9.13"
  }
 },
 "nbformat": 4,
 "nbformat_minor": 5
}
