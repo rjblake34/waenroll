{
 "cells": [
  {
   "cell_type": "code",
   "execution_count": 1,
   "id": "53e5dc38",
   "metadata": {},
   "outputs": [],
   "source": [
    "#create choices\n",
    "strategies=['Rock','Paper','Scissors', 'Lizard', 'Spock']"
   ]
  },
  {
   "cell_type": "code",
   "execution_count": 2,
   "id": "ed7b4000",
   "metadata": {},
   "outputs": [],
   "source": [
    "#create game rules\n",
    "payoff={('Rock','Paper'):(0,1),\n",
    "        ('Paper','Rock'):(1,0),\n",
    "        ('Rock','Scissors'):(1,0),\n",
    "        ('Scissors','Rock'):(0,1),\n",
    "        ('Paper','Scissors'):(0,1),\n",
    "        ('Scissors','Paper'):(1,0),\n",
    "        ('Rock','Lizard'):(1,0),\n",
    "        ('Lizard', 'Rock'):(0,1),\n",
    "        ('Spock','Lizard'):(0,1),\n",
    "        ('Lizard', 'Spock'):(1,0),\n",
    "        ('Paper','Lizard'):(0,1),\n",
    "        ('Lizard', 'Paper'):(1,0),\n",
    "        ('Scissors','Lizard'):(1,0),\n",
    "        ('Lizard', 'Scissors'):(0,1),\n",
    "        ('Spock','Scissors'):(1,0),\n",
    "        ('Scissors', 'Spock'):(0,1),\n",
    "        ('Spock','Paper'):(0,1),\n",
    "        ('Paper', 'Spock'):(1,0),\n",
    "        ('Spock','Rock'):(1,0),\n",
    "        ('Rock', 'Spock'):(0,1),\n",
    "        ('Rock','Rock'):(0,0),\n",
    "        ('Paper','Paper'):(0,0),\n",
    "        ('Scissors','Scissors'):(0,0),\n",
    "        ('Lizard','Lizard'):(0,0),\n",
    "        ('Spock','Spock'):(0,0)}"
   ]
  },
  {
   "cell_type": "code",
   "execution_count": 3,
   "id": "4e510c28",
   "metadata": {},
   "outputs": [],
   "source": [
    "#create names of players\n",
    "names=['Leonard','Sheldon','Raj','Howard']\n",
    "#set up scoring system\n",
    "society=[{'name':n,'score':0,'strategy':None} for n in names]"
   ]
  },
  {
   "cell_type": "code",
   "execution_count": 4,
   "id": "735525ae",
   "metadata": {},
   "outputs": [
    {
     "data": {
      "text/plain": [
       "'Paper'"
      ]
     },
     "execution_count": 4,
     "metadata": {},
     "output_type": "execute_result"
    }
   ],
   "source": [
    "from random import choice\n",
    "\n",
    "#choose randomly\n",
    "choice(strategies)"
   ]
  },
  {
   "cell_type": "code",
   "execution_count": 5,
   "id": "bdf949d4",
   "metadata": {},
   "outputs": [],
   "source": [
    "#test for a single game\n",
    "society[0]['strategy']=choice(strategies)\n",
    "society[1]['strategy']=choice(strategies)"
   ]
  },
  {
   "cell_type": "code",
   "execution_count": 6,
   "id": "85710f4e",
   "metadata": {},
   "outputs": [
    {
     "data": {
      "text/plain": [
       "('Scissors', 'Spock')"
      ]
     },
     "execution_count": 6,
     "metadata": {},
     "output_type": "execute_result"
    }
   ],
   "source": [
    "#single game choice\n",
    "society[0]['strategy'],society[1]['strategy']"
   ]
  },
  {
   "cell_type": "code",
   "execution_count": 7,
   "id": "60482d97",
   "metadata": {},
   "outputs": [
    {
     "data": {
      "text/plain": [
       "(0, 1)"
      ]
     },
     "execution_count": 7,
     "metadata": {},
     "output_type": "execute_result"
    }
   ],
   "source": [
    "#create score for single game\n",
    "result = payoff[society[0]['strategy'],society[1]['strategy']]\n",
    "result"
   ]
  },
  {
   "cell_type": "code",
   "execution_count": 8,
   "id": "7a6f4fd2",
   "metadata": {},
   "outputs": [],
   "source": [
    "#update players scores\n",
    "society[0]['score']+=result[0]\n",
    "society[1]['score']+=result[1]"
   ]
  },
  {
   "cell_type": "code",
   "execution_count": 9,
   "id": "cfa2d587",
   "metadata": {},
   "outputs": [
    {
     "data": {
      "text/plain": [
       "[{'name': 'Leonard', 'score': 0, 'strategy': 'Scissors'},\n",
       " {'name': 'Sheldon', 'score': 1, 'strategy': 'Spock'},\n",
       " {'name': 'Raj', 'score': 0, 'strategy': None},\n",
       " {'name': 'Howard', 'score': 0, 'strategy': None}]"
      ]
     },
     "execution_count": 9,
     "metadata": {},
     "output_type": "execute_result"
    }
   ],
   "source": [
    "#players scores after single game\n",
    "society"
   ]
  },
  {
   "cell_type": "code",
   "execution_count": 10,
   "id": "c7a4dc82",
   "metadata": {},
   "outputs": [
    {
     "data": {
      "text/html": [
       "<div>\n",
       "<style scoped>\n",
       "    .dataframe tbody tr th:only-of-type {\n",
       "        vertical-align: middle;\n",
       "    }\n",
       "\n",
       "    .dataframe tbody tr th {\n",
       "        vertical-align: top;\n",
       "    }\n",
       "\n",
       "    .dataframe thead th {\n",
       "        text-align: right;\n",
       "    }\n",
       "</style>\n",
       "<table border=\"1\" class=\"dataframe\">\n",
       "  <thead>\n",
       "    <tr style=\"text-align: right;\">\n",
       "      <th></th>\n",
       "      <th>name</th>\n",
       "      <th>score</th>\n",
       "      <th>strategy</th>\n",
       "    </tr>\n",
       "  </thead>\n",
       "  <tbody>\n",
       "    <tr>\n",
       "      <th>0</th>\n",
       "      <td>Leonard</td>\n",
       "      <td>0</td>\n",
       "      <td>Scissors</td>\n",
       "    </tr>\n",
       "    <tr>\n",
       "      <th>1</th>\n",
       "      <td>Sheldon</td>\n",
       "      <td>1</td>\n",
       "      <td>Spock</td>\n",
       "    </tr>\n",
       "  </tbody>\n",
       "</table>\n",
       "</div>"
      ],
      "text/plain": [
       "      name  score  strategy\n",
       "0  Leonard      0  Scissors\n",
       "1  Sheldon      1     Spock"
      ]
     },
     "execution_count": 10,
     "metadata": {},
     "output_type": "execute_result"
    }
   ],
   "source": [
    "#create table for single game scores\n",
    "import pandas as pd \n",
    "\n",
    "socialResults=pd.DataFrame((society[0], society[1]))\n",
    "socialResults"
   ]
  },
  {
   "cell_type": "code",
   "execution_count": 11,
   "id": "23a5a6d4",
   "metadata": {},
   "outputs": [
    {
     "data": {
      "text/html": [
       "<div>\n",
       "<style scoped>\n",
       "    .dataframe tbody tr th:only-of-type {\n",
       "        vertical-align: middle;\n",
       "    }\n",
       "\n",
       "    .dataframe tbody tr th {\n",
       "        vertical-align: top;\n",
       "    }\n",
       "\n",
       "    .dataframe thead th {\n",
       "        text-align: right;\n",
       "    }\n",
       "</style>\n",
       "<table border=\"1\" class=\"dataframe\">\n",
       "  <thead>\n",
       "    <tr style=\"text-align: right;\">\n",
       "      <th></th>\n",
       "      <th>name</th>\n",
       "      <th>score</th>\n",
       "      <th>strategy</th>\n",
       "    </tr>\n",
       "  </thead>\n",
       "  <tbody>\n",
       "    <tr>\n",
       "      <th>1</th>\n",
       "      <td>Sheldon</td>\n",
       "      <td>1</td>\n",
       "      <td>Spock</td>\n",
       "    </tr>\n",
       "  </tbody>\n",
       "</table>\n",
       "</div>"
      ],
      "text/plain": [
       "      name  score strategy\n",
       "1  Sheldon      1    Spock"
      ]
     },
     "execution_count": 11,
     "metadata": {},
     "output_type": "execute_result"
    }
   ],
   "source": [
    "#create table for winners\n",
    "winnerScore=socialResults.score.max()\n",
    "socialResults[socialResults.score==winnerScore]"
   ]
  },
  {
   "cell_type": "code",
   "execution_count": 12,
   "id": "9835c839",
   "metadata": {},
   "outputs": [
    {
     "name": "stdout",
     "output_type": "stream",
     "text": [
      "{'name': 'Leonard', 'score': 0, 'strategy': 'Scissors'} {'name': 'Sheldon', 'score': 1, 'strategy': 'Spock'}\n",
      "{'name': 'Leonard', 'score': 0, 'strategy': 'Scissors'} {'name': 'Raj', 'score': 0, 'strategy': None}\n",
      "{'name': 'Leonard', 'score': 0, 'strategy': 'Scissors'} {'name': 'Howard', 'score': 0, 'strategy': None}\n",
      "{'name': 'Sheldon', 'score': 1, 'strategy': 'Spock'} {'name': 'Raj', 'score': 0, 'strategy': None}\n",
      "{'name': 'Sheldon', 'score': 1, 'strategy': 'Spock'} {'name': 'Howard', 'score': 0, 'strategy': None}\n",
      "{'name': 'Raj', 'score': 0, 'strategy': None} {'name': 'Howard', 'score': 0, 'strategy': None}\n"
     ]
    }
   ],
   "source": [
    "import itertools \n",
    "for player1,player2 in itertools.combinations(society,2):\n",
    "    print(player1,player2)"
   ]
  },
  {
   "cell_type": "code",
   "execution_count": 13,
   "id": "3c5d8206",
   "metadata": {},
   "outputs": [],
   "source": [
    "#reset game\n",
    "society=[{'name':n,'score':0,'strategy':None} for n in names]\n",
    "\n",
    "#create games\n",
    "for aRound in range(100):\n",
    "    \n",
    "    #in each round\n",
    "    for player1,player2 in itertools.combinations(society,2):\n",
    "        # each chooses strategy\n",
    "        player1['strategy']=choice(strategies)\n",
    "        player2['strategy']=choice(strategies)\n",
    "        # result from each game\n",
    "        result=payoff[player1['strategy'],player2['strategy']]\n",
    "        # update scores\n",
    "        player1['score']+=result[0]\n",
    "        player2['score']+=result[1]"
   ]
  },
  {
   "cell_type": "code",
   "execution_count": 14,
   "id": "09c508c2",
   "metadata": {},
   "outputs": [
    {
     "data": {
      "text/plain": [
       "[{'name': 'Leonard', 'score': 113, 'strategy': 'Scissors'},\n",
       " {'name': 'Sheldon', 'score': 126, 'strategy': 'Spock'},\n",
       " {'name': 'Raj', 'score': 114, 'strategy': 'Scissors'},\n",
       " {'name': 'Howard', 'score': 116, 'strategy': 'Paper'}]"
      ]
     },
     "execution_count": 14,
     "metadata": {},
     "output_type": "execute_result"
    }
   ],
   "source": [
    "# results\n",
    "society"
   ]
  },
  {
   "cell_type": "code",
   "execution_count": 15,
   "id": "858cf7c8",
   "metadata": {},
   "outputs": [
    {
     "data": {
      "text/html": [
       "<div>\n",
       "<style scoped>\n",
       "    .dataframe tbody tr th:only-of-type {\n",
       "        vertical-align: middle;\n",
       "    }\n",
       "\n",
       "    .dataframe tbody tr th {\n",
       "        vertical-align: top;\n",
       "    }\n",
       "\n",
       "    .dataframe thead th {\n",
       "        text-align: right;\n",
       "    }\n",
       "</style>\n",
       "<table border=\"1\" class=\"dataframe\">\n",
       "  <thead>\n",
       "    <tr style=\"text-align: right;\">\n",
       "      <th></th>\n",
       "      <th>name</th>\n",
       "      <th>score</th>\n",
       "      <th>strategy</th>\n",
       "    </tr>\n",
       "  </thead>\n",
       "  <tbody>\n",
       "    <tr>\n",
       "      <th>0</th>\n",
       "      <td>Leonard</td>\n",
       "      <td>113</td>\n",
       "      <td>Scissors</td>\n",
       "    </tr>\n",
       "    <tr>\n",
       "      <th>1</th>\n",
       "      <td>Sheldon</td>\n",
       "      <td>126</td>\n",
       "      <td>Spock</td>\n",
       "    </tr>\n",
       "    <tr>\n",
       "      <th>2</th>\n",
       "      <td>Raj</td>\n",
       "      <td>114</td>\n",
       "      <td>Scissors</td>\n",
       "    </tr>\n",
       "    <tr>\n",
       "      <th>3</th>\n",
       "      <td>Howard</td>\n",
       "      <td>116</td>\n",
       "      <td>Paper</td>\n",
       "    </tr>\n",
       "  </tbody>\n",
       "</table>\n",
       "</div>"
      ],
      "text/plain": [
       "      name  score  strategy\n",
       "0  Leonard    113  Scissors\n",
       "1  Sheldon    126     Spock\n",
       "2      Raj    114  Scissors\n",
       "3   Howard    116     Paper"
      ]
     },
     "execution_count": 15,
     "metadata": {},
     "output_type": "execute_result"
    }
   ],
   "source": [
    "# results as a data frame\n",
    "socialResults=pd.DataFrame(society)\n",
    "socialResults"
   ]
  },
  {
   "cell_type": "code",
   "execution_count": 16,
   "id": "765ee19d",
   "metadata": {},
   "outputs": [
    {
     "data": {
      "text/html": [
       "<div>\n",
       "<style scoped>\n",
       "    .dataframe tbody tr th:only-of-type {\n",
       "        vertical-align: middle;\n",
       "    }\n",
       "\n",
       "    .dataframe tbody tr th {\n",
       "        vertical-align: top;\n",
       "    }\n",
       "\n",
       "    .dataframe thead th {\n",
       "        text-align: right;\n",
       "    }\n",
       "</style>\n",
       "<table border=\"1\" class=\"dataframe\">\n",
       "  <thead>\n",
       "    <tr style=\"text-align: right;\">\n",
       "      <th></th>\n",
       "      <th>name</th>\n",
       "      <th>score</th>\n",
       "      <th>strategy</th>\n",
       "    </tr>\n",
       "  </thead>\n",
       "  <tbody>\n",
       "    <tr>\n",
       "      <th>1</th>\n",
       "      <td>Sheldon</td>\n",
       "      <td>126</td>\n",
       "      <td>Spock</td>\n",
       "    </tr>\n",
       "  </tbody>\n",
       "</table>\n",
       "</div>"
      ],
      "text/plain": [
       "      name  score strategy\n",
       "1  Sheldon    126    Spock"
      ]
     },
     "execution_count": 16,
     "metadata": {},
     "output_type": "execute_result"
    }
   ],
   "source": [
    "#winners\n",
    "winnerScore=socialResults.score.max()\n",
    "socialResults[socialResults.score==winnerScore]"
   ]
  }
 ],
 "metadata": {
  "kernelspec": {
   "display_name": "Python 3 (ipykernel)",
   "language": "python",
   "name": "python3"
  },
  "language_info": {
   "codemirror_mode": {
    "name": "ipython",
    "version": 3
   },
   "file_extension": ".py",
   "mimetype": "text/x-python",
   "name": "python",
   "nbconvert_exporter": "python",
   "pygments_lexer": "ipython3",
   "version": "3.9.13"
  }
 },
 "nbformat": 4,
 "nbformat_minor": 5
}
