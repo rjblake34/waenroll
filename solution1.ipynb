{
 "cells": [
  {
   "cell_type": "code",
   "execution_count": 7,
   "id": "69f1e600",
   "metadata": {},
   "outputs": [],
   "source": [
    "import pandas as pd \n",
    "\n",
    "gitCloudRepo = 'https://github.com/rjblake34/waenroll/raw/main/'\n",
    "fileName = 'waenrolldf.csv'\n",
    "\n",
    "DFenroll = pd.read_csv(gitCloudRepo+fileName)"
   ]
  },
  {
   "cell_type": "code",
   "execution_count": 8,
   "id": "0e4ba949",
   "metadata": {
    "scrolled": true
   },
   "outputs": [
    {
     "name": "stdout",
     "output_type": "stream",
     "text": [
      "<class 'pandas.core.frame.DataFrame'>\n",
      "RangeIndex: 927 entries, 0 to 926\n",
      "Data columns (total 12 columns):\n",
      " #   Column            Non-Null Count  Dtype  \n",
      "---  ------            --------------  -----  \n",
      " 0   Unnamed: 0        927 non-null    int64  \n",
      " 1   Year              927 non-null    int64  \n",
      " 2   District          927 non-null    object \n",
      " 3   2 Year            927 non-null    float64\n",
      " 4   4 Year            927 non-null    float64\n",
      " 5   Not Enrolled      927 non-null    float64\n",
      " 6   Total Students    927 non-null    int64  \n",
      " 7   Female %          927 non-null    float64\n",
      " 8   White %           927 non-null    float64\n",
      " 9   ELL %             927 non-null    float64\n",
      " 10  Low Income %      927 non-null    float64\n",
      " 11  Highly Capable %  927 non-null    float64\n",
      "dtypes: float64(8), int64(3), object(1)\n",
      "memory usage: 87.0+ KB\n"
     ]
    }
   ],
   "source": [
    "DFenroll.info()"
   ]
  },
  {
   "cell_type": "code",
   "execution_count": 9,
   "id": "b393c46e",
   "metadata": {},
   "outputs": [
    {
     "data": {
      "text/plain": "     Unnamed: 0  Year                                 District  2 Year  \\\n0             0  2014                                 Aberdeen  0.4250   \n1             1  2014                                     Adna  0.4200   \n2             2  2014                                Anacortes  0.2750   \n3             3  2014                                Arlington  0.3000   \n4             4  2014                                   Auburn  0.2825   \n..          ...   ...                                      ...     ...   \n922         922  2019                           Asotin-Anatone  0.2000   \n923         923  2019  Lake Washington Institute of Technology  0.2900   \n924         924  2019                            College Place  0.5200   \n925         925  2019            Summit Public School: Olympus  0.1500   \n926         926  2019             Summit Public School: Sierra  0.2200   \n\n     4 Year  Not Enrolled  Total Students  Female %   White %     ELL %  \\\n0     0.180         0.395            3404  0.487955  0.573443  0.098120   \n1     0.120         0.470             610  0.470492  0.903279  0.000000   \n2     0.425         0.305            2708  0.494092  0.839734  0.022526   \n3     0.275         0.425            5575  0.477309  0.787444  0.038924   \n4     0.325         0.390           15685  0.492828  0.451450  0.149251   \n..      ...           ...             ...       ...       ...       ...   \n922   0.420         0.370             625  0.502400  0.862400  0.000000   \n923   0.240         0.470             806  0.423077  0.648883  0.000000   \n924   0.190         0.290            1629  0.476980  0.495396  0.176796   \n925   0.480         0.360             183  0.497268  0.267760  0.060109   \n926   0.660         0.130             344  0.485465  0.316860  0.107558   \n\n     Low Income %  Highly Capable %  \n0        0.726204          0.028202  \n1        0.288525          0.000000  \n2        0.331610          0.016987  \n3        0.374709          0.000538  \n4        0.596047          0.014472  \n..            ...               ...  \n922      0.379200          0.051200  \n923      0.000000          0.000000  \n924      0.574586          0.062615  \n925      0.715847          0.081967  \n926      0.357558          0.151163  \n\n[927 rows x 12 columns]",
      "text/html": "<div>\n<style scoped>\n    .dataframe tbody tr th:only-of-type {\n        vertical-align: middle;\n    }\n\n    .dataframe tbody tr th {\n        vertical-align: top;\n    }\n\n    .dataframe thead th {\n        text-align: right;\n    }\n</style>\n<table border=\"1\" class=\"dataframe\">\n  <thead>\n    <tr style=\"text-align: right;\">\n      <th></th>\n      <th>Unnamed: 0</th>\n      <th>Year</th>\n      <th>District</th>\n      <th>2 Year</th>\n      <th>4 Year</th>\n      <th>Not Enrolled</th>\n      <th>Total Students</th>\n      <th>Female %</th>\n      <th>White %</th>\n      <th>ELL %</th>\n      <th>Low Income %</th>\n      <th>Highly Capable %</th>\n    </tr>\n  </thead>\n  <tbody>\n    <tr>\n      <th>0</th>\n      <td>0</td>\n      <td>2014</td>\n      <td>Aberdeen</td>\n      <td>0.4250</td>\n      <td>0.180</td>\n      <td>0.395</td>\n      <td>3404</td>\n      <td>0.487955</td>\n      <td>0.573443</td>\n      <td>0.098120</td>\n      <td>0.726204</td>\n      <td>0.028202</td>\n    </tr>\n    <tr>\n      <th>1</th>\n      <td>1</td>\n      <td>2014</td>\n      <td>Adna</td>\n      <td>0.4200</td>\n      <td>0.120</td>\n      <td>0.470</td>\n      <td>610</td>\n      <td>0.470492</td>\n      <td>0.903279</td>\n      <td>0.000000</td>\n      <td>0.288525</td>\n      <td>0.000000</td>\n    </tr>\n    <tr>\n      <th>2</th>\n      <td>2</td>\n      <td>2014</td>\n      <td>Anacortes</td>\n      <td>0.2750</td>\n      <td>0.425</td>\n      <td>0.305</td>\n      <td>2708</td>\n      <td>0.494092</td>\n      <td>0.839734</td>\n      <td>0.022526</td>\n      <td>0.331610</td>\n      <td>0.016987</td>\n    </tr>\n    <tr>\n      <th>3</th>\n      <td>3</td>\n      <td>2014</td>\n      <td>Arlington</td>\n      <td>0.3000</td>\n      <td>0.275</td>\n      <td>0.425</td>\n      <td>5575</td>\n      <td>0.477309</td>\n      <td>0.787444</td>\n      <td>0.038924</td>\n      <td>0.374709</td>\n      <td>0.000538</td>\n    </tr>\n    <tr>\n      <th>4</th>\n      <td>4</td>\n      <td>2014</td>\n      <td>Auburn</td>\n      <td>0.2825</td>\n      <td>0.325</td>\n      <td>0.390</td>\n      <td>15685</td>\n      <td>0.492828</td>\n      <td>0.451450</td>\n      <td>0.149251</td>\n      <td>0.596047</td>\n      <td>0.014472</td>\n    </tr>\n    <tr>\n      <th>...</th>\n      <td>...</td>\n      <td>...</td>\n      <td>...</td>\n      <td>...</td>\n      <td>...</td>\n      <td>...</td>\n      <td>...</td>\n      <td>...</td>\n      <td>...</td>\n      <td>...</td>\n      <td>...</td>\n      <td>...</td>\n    </tr>\n    <tr>\n      <th>922</th>\n      <td>922</td>\n      <td>2019</td>\n      <td>Asotin-Anatone</td>\n      <td>0.2000</td>\n      <td>0.420</td>\n      <td>0.370</td>\n      <td>625</td>\n      <td>0.502400</td>\n      <td>0.862400</td>\n      <td>0.000000</td>\n      <td>0.379200</td>\n      <td>0.051200</td>\n    </tr>\n    <tr>\n      <th>923</th>\n      <td>923</td>\n      <td>2019</td>\n      <td>Lake Washington Institute of Technology</td>\n      <td>0.2900</td>\n      <td>0.240</td>\n      <td>0.470</td>\n      <td>806</td>\n      <td>0.423077</td>\n      <td>0.648883</td>\n      <td>0.000000</td>\n      <td>0.000000</td>\n      <td>0.000000</td>\n    </tr>\n    <tr>\n      <th>924</th>\n      <td>924</td>\n      <td>2019</td>\n      <td>College Place</td>\n      <td>0.5200</td>\n      <td>0.190</td>\n      <td>0.290</td>\n      <td>1629</td>\n      <td>0.476980</td>\n      <td>0.495396</td>\n      <td>0.176796</td>\n      <td>0.574586</td>\n      <td>0.062615</td>\n    </tr>\n    <tr>\n      <th>925</th>\n      <td>925</td>\n      <td>2019</td>\n      <td>Summit Public School: Olympus</td>\n      <td>0.1500</td>\n      <td>0.480</td>\n      <td>0.360</td>\n      <td>183</td>\n      <td>0.497268</td>\n      <td>0.267760</td>\n      <td>0.060109</td>\n      <td>0.715847</td>\n      <td>0.081967</td>\n    </tr>\n    <tr>\n      <th>926</th>\n      <td>926</td>\n      <td>2019</td>\n      <td>Summit Public School: Sierra</td>\n      <td>0.2200</td>\n      <td>0.660</td>\n      <td>0.130</td>\n      <td>344</td>\n      <td>0.485465</td>\n      <td>0.316860</td>\n      <td>0.107558</td>\n      <td>0.357558</td>\n      <td>0.151163</td>\n    </tr>\n  </tbody>\n</table>\n<p>927 rows × 12 columns</p>\n</div>"
     },
     "execution_count": 9,
     "metadata": {},
     "output_type": "execute_result"
    }
   ],
   "source": [
    "DFenroll"
   ]
  }
 ],
 "metadata": {
  "kernelspec": {
   "display_name": "Python 3 (ipykernel)",
   "language": "python",
   "name": "python3"
  },
  "language_info": {
   "codemirror_mode": {
    "name": "ipython",
    "version": 3
   },
   "file_extension": ".py",
   "mimetype": "text/x-python",
   "name": "python",
   "nbconvert_exporter": "python",
   "pygments_lexer": "ipython3",
   "version": "3.9.13"
  }
 },
 "nbformat": 4,
 "nbformat_minor": 5
}
