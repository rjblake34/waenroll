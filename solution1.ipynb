{
 "cells": [
  {
   "cell_type": "code",
   "execution_count": 1,
   "id": "69f1e600",
   "metadata": {},
   "outputs": [],
   "source": [
    "import pandas as pd \n",
    "\n",
    "gitCloudRepo = 'https://github.com/rjblake34/waenroll/raw/main/'\n",
    "fileName = 'waenrolldf.csv'\n",
    "\n",
    "DFenroll = pd.read_csv(gitCloudRepo+fileName)"
   ]
  },
  {
   "cell_type": "code",
   "execution_count": 2,
   "id": "0e4ba949",
   "metadata": {
    "scrolled": true
   },
   "outputs": [
    {
     "name": "stdout",
     "output_type": "stream",
     "text": [
      "<class 'pandas.core.frame.DataFrame'>\n",
      "RangeIndex: 1024 entries, 0 to 1023\n",
      "Data columns (total 23 columns):\n",
      " #   Column                          Non-Null Count  Dtype  \n",
      "---  ------                          --------------  -----  \n",
      " 0   Unnamed: 0                      1024 non-null   int64  \n",
      " 1   Year                            1024 non-null   int64  \n",
      " 2   District                        1024 non-null   object \n",
      " 3   2 Year                          1024 non-null   float64\n",
      " 4   4 Year                          1024 non-null   float64\n",
      " 5   Not Enrolled                    1024 non-null   float64\n",
      " 6   all_students                    1024 non-null   int64  \n",
      " 7   female                          1024 non-null   int64  \n",
      " 8   male                            1024 non-null   int64  \n",
      " 9   gender_x                        1024 non-null   int64  \n",
      " 10  american_indian_alaskan_native  1024 non-null   int64  \n",
      " 11  asian                           1024 non-null   int64  \n",
      " 12  black_african_american          1024 non-null   int64  \n",
      " 13  hispanic_latino_of_any_race     1024 non-null   int64  \n",
      " 14  native_hawaiian_other_pacific   1024 non-null   int64  \n",
      " 15  two_or_more_races               1024 non-null   int64  \n",
      " 16  white                           1024 non-null   int64  \n",
      " 17  english_language_learners       1024 non-null   int64  \n",
      " 18  highly_capable                  1024 non-null   int64  \n",
      " 19  low_income                      1024 non-null   int64  \n",
      " 20  non_english_language_learners   1024 non-null   int64  \n",
      " 21  non_highly_capable              1024 non-null   int64  \n",
      " 22  non_low_income                  1024 non-null   int64  \n",
      "dtypes: float64(3), int64(19), object(1)\n",
      "memory usage: 184.1+ KB\n"
     ]
    }
   ],
   "source": [
    "DFenroll.info()"
   ]
  },
  {
   "cell_type": "code",
   "execution_count": 3,
   "id": "b393c46e",
   "metadata": {},
   "outputs": [
    {
     "data": {
      "text/plain": "      Unnamed: 0  Year             District  2 Year    4 Year  Not Enrolled  \\\n0              0  2014             Aberdeen   0.440  0.180000      0.385000   \n1              1  2014                 Adna   0.420  0.120000      0.470000   \n2              2  2014            Anacortes   0.275  0.420000      0.310000   \n3              3  2014            Arlington   0.310  0.275000      0.415000   \n4              4  2014               Auburn   0.285  0.325000      0.387500   \n...          ...   ...                  ...     ...       ...           ...   \n1019        1019  2019  White Salmon Valley   0.120  0.375000      0.510000   \n1020        1020  2019             Woodland   0.245  0.130000      0.625000   \n1021        1021  2019               Yakima   0.280  0.266667      0.453333   \n1022        1022  2019                 Yelm   0.185  0.285000      0.530000   \n1023        1023  2019               Zillah   0.310  0.220000      0.470000   \n\n      all_students  female  male  gender_x  ...  hispanic_latino_of_any_race  \\\n0             3404    1661  1743         0  ...                         1003   \n1              610     287   323         0  ...                           35   \n2             2708    1338  1370         0  ...                          226   \n3             5575    2661  2914         0  ...                          667   \n4            15685    7730  7955         0  ...                         4148   \n...            ...     ...   ...       ...  ...                          ...   \n1019          1285     591   693         1  ...                          406   \n1020          2535    1193  1342         0  ...                          571   \n1021         16419    8126  8293         0  ...                        13058   \n1022          5902    2813  3085         4  ...                          937   \n1023          1335     620   715         0  ...                          723   \n\n      native_hawaiian_other_pacific  two_or_more_races  white  \\\n0                                10                162   1952   \n1                                 0                 14    551   \n2                                 8                 44   2274   \n3                                30                279   4390   \n4                               530               1444   7081   \n...                             ...                ...    ...   \n1019                              2                 42    819   \n1020                              2                 99   1821   \n1021                             18                396   2642   \n1022                             89                686   3924   \n1023                              0                 53    502   \n\n      english_language_learners  highly_capable  low_income  \\\n0                           334              96        2472   \n1                             0               0         176   \n2                            61              46         898   \n3                           217               3        2089   \n4                          2341             227        9349   \n...                         ...             ...         ...   \n1019                        196             100         589   \n1020                        213             170        1228   \n1021                       4947             462       13681   \n1022                        165             357        3001   \n1023                        144              46         789   \n\n      non_english_language_learners  non_highly_capable  non_low_income  \n0                              3070                3308             932  \n1                               610                 610             434  \n2                              2647                2662            1810  \n3                              5358                5572            3486  \n4                             13344               15458            6336  \n...                             ...                 ...             ...  \n1019                           1089                1185             696  \n1020                           2322                2365            1307  \n1021                          11472               15957            2738  \n1022                           5737                5545            2901  \n1023                           1191                1289             546  \n\n[1024 rows x 23 columns]",
      "text/html": "<div>\n<style scoped>\n    .dataframe tbody tr th:only-of-type {\n        vertical-align: middle;\n    }\n\n    .dataframe tbody tr th {\n        vertical-align: top;\n    }\n\n    .dataframe thead th {\n        text-align: right;\n    }\n</style>\n<table border=\"1\" class=\"dataframe\">\n  <thead>\n    <tr style=\"text-align: right;\">\n      <th></th>\n      <th>Unnamed: 0</th>\n      <th>Year</th>\n      <th>District</th>\n      <th>2 Year</th>\n      <th>4 Year</th>\n      <th>Not Enrolled</th>\n      <th>all_students</th>\n      <th>female</th>\n      <th>male</th>\n      <th>gender_x</th>\n      <th>...</th>\n      <th>hispanic_latino_of_any_race</th>\n      <th>native_hawaiian_other_pacific</th>\n      <th>two_or_more_races</th>\n      <th>white</th>\n      <th>english_language_learners</th>\n      <th>highly_capable</th>\n      <th>low_income</th>\n      <th>non_english_language_learners</th>\n      <th>non_highly_capable</th>\n      <th>non_low_income</th>\n    </tr>\n  </thead>\n  <tbody>\n    <tr>\n      <th>0</th>\n      <td>0</td>\n      <td>2014</td>\n      <td>Aberdeen</td>\n      <td>0.440</td>\n      <td>0.180000</td>\n      <td>0.385000</td>\n      <td>3404</td>\n      <td>1661</td>\n      <td>1743</td>\n      <td>0</td>\n      <td>...</td>\n      <td>1003</td>\n      <td>10</td>\n      <td>162</td>\n      <td>1952</td>\n      <td>334</td>\n      <td>96</td>\n      <td>2472</td>\n      <td>3070</td>\n      <td>3308</td>\n      <td>932</td>\n    </tr>\n    <tr>\n      <th>1</th>\n      <td>1</td>\n      <td>2014</td>\n      <td>Adna</td>\n      <td>0.420</td>\n      <td>0.120000</td>\n      <td>0.470000</td>\n      <td>610</td>\n      <td>287</td>\n      <td>323</td>\n      <td>0</td>\n      <td>...</td>\n      <td>35</td>\n      <td>0</td>\n      <td>14</td>\n      <td>551</td>\n      <td>0</td>\n      <td>0</td>\n      <td>176</td>\n      <td>610</td>\n      <td>610</td>\n      <td>434</td>\n    </tr>\n    <tr>\n      <th>2</th>\n      <td>2</td>\n      <td>2014</td>\n      <td>Anacortes</td>\n      <td>0.275</td>\n      <td>0.420000</td>\n      <td>0.310000</td>\n      <td>2708</td>\n      <td>1338</td>\n      <td>1370</td>\n      <td>0</td>\n      <td>...</td>\n      <td>226</td>\n      <td>8</td>\n      <td>44</td>\n      <td>2274</td>\n      <td>61</td>\n      <td>46</td>\n      <td>898</td>\n      <td>2647</td>\n      <td>2662</td>\n      <td>1810</td>\n    </tr>\n    <tr>\n      <th>3</th>\n      <td>3</td>\n      <td>2014</td>\n      <td>Arlington</td>\n      <td>0.310</td>\n      <td>0.275000</td>\n      <td>0.415000</td>\n      <td>5575</td>\n      <td>2661</td>\n      <td>2914</td>\n      <td>0</td>\n      <td>...</td>\n      <td>667</td>\n      <td>30</td>\n      <td>279</td>\n      <td>4390</td>\n      <td>217</td>\n      <td>3</td>\n      <td>2089</td>\n      <td>5358</td>\n      <td>5572</td>\n      <td>3486</td>\n    </tr>\n    <tr>\n      <th>4</th>\n      <td>4</td>\n      <td>2014</td>\n      <td>Auburn</td>\n      <td>0.285</td>\n      <td>0.325000</td>\n      <td>0.387500</td>\n      <td>15685</td>\n      <td>7730</td>\n      <td>7955</td>\n      <td>0</td>\n      <td>...</td>\n      <td>4148</td>\n      <td>530</td>\n      <td>1444</td>\n      <td>7081</td>\n      <td>2341</td>\n      <td>227</td>\n      <td>9349</td>\n      <td>13344</td>\n      <td>15458</td>\n      <td>6336</td>\n    </tr>\n    <tr>\n      <th>...</th>\n      <td>...</td>\n      <td>...</td>\n      <td>...</td>\n      <td>...</td>\n      <td>...</td>\n      <td>...</td>\n      <td>...</td>\n      <td>...</td>\n      <td>...</td>\n      <td>...</td>\n      <td>...</td>\n      <td>...</td>\n      <td>...</td>\n      <td>...</td>\n      <td>...</td>\n      <td>...</td>\n      <td>...</td>\n      <td>...</td>\n      <td>...</td>\n      <td>...</td>\n      <td>...</td>\n    </tr>\n    <tr>\n      <th>1019</th>\n      <td>1019</td>\n      <td>2019</td>\n      <td>White Salmon Valley</td>\n      <td>0.120</td>\n      <td>0.375000</td>\n      <td>0.510000</td>\n      <td>1285</td>\n      <td>591</td>\n      <td>693</td>\n      <td>1</td>\n      <td>...</td>\n      <td>406</td>\n      <td>2</td>\n      <td>42</td>\n      <td>819</td>\n      <td>196</td>\n      <td>100</td>\n      <td>589</td>\n      <td>1089</td>\n      <td>1185</td>\n      <td>696</td>\n    </tr>\n    <tr>\n      <th>1020</th>\n      <td>1020</td>\n      <td>2019</td>\n      <td>Woodland</td>\n      <td>0.245</td>\n      <td>0.130000</td>\n      <td>0.625000</td>\n      <td>2535</td>\n      <td>1193</td>\n      <td>1342</td>\n      <td>0</td>\n      <td>...</td>\n      <td>571</td>\n      <td>2</td>\n      <td>99</td>\n      <td>1821</td>\n      <td>213</td>\n      <td>170</td>\n      <td>1228</td>\n      <td>2322</td>\n      <td>2365</td>\n      <td>1307</td>\n    </tr>\n    <tr>\n      <th>1021</th>\n      <td>1021</td>\n      <td>2019</td>\n      <td>Yakima</td>\n      <td>0.280</td>\n      <td>0.266667</td>\n      <td>0.453333</td>\n      <td>16419</td>\n      <td>8126</td>\n      <td>8293</td>\n      <td>0</td>\n      <td>...</td>\n      <td>13058</td>\n      <td>18</td>\n      <td>396</td>\n      <td>2642</td>\n      <td>4947</td>\n      <td>462</td>\n      <td>13681</td>\n      <td>11472</td>\n      <td>15957</td>\n      <td>2738</td>\n    </tr>\n    <tr>\n      <th>1022</th>\n      <td>1022</td>\n      <td>2019</td>\n      <td>Yelm</td>\n      <td>0.185</td>\n      <td>0.285000</td>\n      <td>0.530000</td>\n      <td>5902</td>\n      <td>2813</td>\n      <td>3085</td>\n      <td>4</td>\n      <td>...</td>\n      <td>937</td>\n      <td>89</td>\n      <td>686</td>\n      <td>3924</td>\n      <td>165</td>\n      <td>357</td>\n      <td>3001</td>\n      <td>5737</td>\n      <td>5545</td>\n      <td>2901</td>\n    </tr>\n    <tr>\n      <th>1023</th>\n      <td>1023</td>\n      <td>2019</td>\n      <td>Zillah</td>\n      <td>0.310</td>\n      <td>0.220000</td>\n      <td>0.470000</td>\n      <td>1335</td>\n      <td>620</td>\n      <td>715</td>\n      <td>0</td>\n      <td>...</td>\n      <td>723</td>\n      <td>0</td>\n      <td>53</td>\n      <td>502</td>\n      <td>144</td>\n      <td>46</td>\n      <td>789</td>\n      <td>1191</td>\n      <td>1289</td>\n      <td>546</td>\n    </tr>\n  </tbody>\n</table>\n<p>1024 rows × 23 columns</p>\n</div>"
     },
     "execution_count": 3,
     "metadata": {},
     "output_type": "execute_result"
    }
   ],
   "source": [
    "DFenroll"
   ]
  }
 ],
 "metadata": {
  "kernelspec": {
   "display_name": "Python 3 (ipykernel)",
   "language": "python",
   "name": "python3"
  },
  "language_info": {
   "codemirror_mode": {
    "name": "ipython",
    "version": 3
   },
   "file_extension": ".py",
   "mimetype": "text/x-python",
   "name": "python",
   "nbconvert_exporter": "python",
   "pygments_lexer": "ipython3",
   "version": "3.9.13"
  }
 },
 "nbformat": 4,
 "nbformat_minor": 5
}
