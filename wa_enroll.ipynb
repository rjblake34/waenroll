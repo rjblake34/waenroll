{
 "cells": [
  {
   "cell_type": "markdown",
   "metadata": {},
   "source": [
    "This project explores demographic differences in immediate postsecondary enrollment among Washington high school graduates. It uses public data from data.wa.gov.\n",
    "The first dataset includes data related to postseconary enrollment rates. It’s broken down by:\n",
    "Year (2005-2019); area (state, county, district, school); demographic (sex, race, income, etc); and institution type (2 year, 4 year, or not enrolled) For now, I will arrange the data for all students at the county level."
   ]
  },
  {
   "cell_type": "code",
   "execution_count": 39,
   "metadata": {},
   "outputs": [
    {
     "name": "stderr",
     "output_type": "stream",
     "text": [
      "WARNING:root:Requests made without an app_token will be subject to strict throttling limits.\n"
     ]
    }
   ],
   "source": [
    "#READ IN HIGH SCHOOL GRADUATE OUTCOMES - FIRST YEAR ENROLLMENT\n",
    "#https://data.wa.gov/Education/High-School-Graduate-Outcomes-First-Year-Enrollmen/vk6s-am8z\n",
    "\n",
    "#!/usr/bin/env python\n",
    "\n",
    "# make sure to install these packages before running:\n",
    "# pip install pandas\n",
    "# pip install sodapy\n",
    "\n",
    "import pandas as pd\n",
    "from sodapy import Socrata\n",
    "\n",
    "# Unauthenticated client only works with public data sets. Note 'None'\n",
    "# in place of application token, and no username or password:\n",
    "client = Socrata(\"data.wa.gov\", None)\n",
    "\n",
    "# Example authenticated client (needed for non-public datasets):\n",
    "# client = Socrata(data.wa.gov,\n",
    "#                  MyAppToken,\n",
    "#                  username=\"user@example.com\",\n",
    "#                  password=\"AFakePassword\")\n",
    "\n",
    "# All results, returned as JSON from API / converted to Python list of\n",
    "# dictionaries by sodapy.\n",
    "results = client.get(\"7ma7-qs6m\", limit=400000)\n",
    "\n",
    "# Convert to pandas DataFrame\n",
    "enrollment_df = pd.DataFrame.from_records(results)"
   ]
  },
  {
   "cell_type": "code",
   "execution_count": 40,
   "metadata": {},
   "outputs": [],
   "source": [
    "#filter to include all students at the school district level only\n",
    "enrollment_df=enrollment_df[enrollment_df['districttype'].str.contains('School Dist')]\n",
    "enrollment_df=enrollment_df[enrollment_df['demotype'].str.contains('All Students')]\n",
    "enrollment_df=enrollment_df[enrollment_df['cohorttype'].str.contains('1yr')]"
   ]
  },
  {
   "cell_type": "code",
   "execution_count": 41,
   "metadata": {},
   "outputs": [],
   "source": [
    "#drop unused columns\n",
    "enrollment_df.drop(['districttype','schoolttl','redactedpct','demotype',\n",
    "                    'demographicgroup', 'demographicvalue', 'redactedpct', 'cohorttype'],\n",
    "                   axis=1, inplace=True)\n",
    "enrollment_df.reset_index(drop=True, inplace=True)"
   ]
  },
  {
   "cell_type": "code",
   "execution_count": 42,
   "metadata": {},
   "outputs": [],
   "source": [
    "#change value 'pct' & 'cohortyearttl' from object to number\n",
    "enrollment_df['pct']=enrollment_df['pct'].apply(pd.to_numeric, errors='coerce')\n",
    "enrollment_df['cohortyearttl']=enrollment_df['cohortyearttl'].apply(pd.to_numeric, errors='coerce')"
   ]
  },
  {
   "cell_type": "code",
   "execution_count": 43,
   "metadata": {},
   "outputs": [],
   "source": [
    "#filter to only include years >= 2014\n",
    "enrollment_df=enrollment_df[enrollment_df['cohortyearttl']>=2014]"
   ]
  },
  {
   "cell_type": "code",
   "execution_count": 44,
   "metadata": {},
   "outputs": [],
   "source": [
    "#pivot from long to wide data frame and reset index\n",
    "df1=pd.pivot_table(enrollment_df,\n",
    "                   index=['cohortyearttl','districtttl'],\n",
    "                   columns='psenrolllevel',\n",
    "                   values='pct').reset_index()\n",
    "\n",
    "#remove index name\n",
    "df1.index.name = df1.columns.name = None\n",
    "\n",
    "#rename columns\n",
    "df1.rename(columns={'cohortyearttl': 'Year', 'districtttl': 'District', '2 Year / CTC' : 'TwoYear', '4 Year' : 'FourYear', 'Not Enrolled' : 'NotEnrolled'}, inplace=True)\n"
   ]
  },
  {
   "cell_type": "code",
   "execution_count": 45,
   "metadata": {},
   "outputs": [
    {
     "name": "stdout",
     "output_type": "stream",
     "text": [
      "<class 'pandas.core.frame.DataFrame'>\n",
      "RangeIndex: 1284 entries, 0 to 1283\n",
      "Data columns (total 5 columns):\n",
      " #   Column       Non-Null Count  Dtype  \n",
      "---  ------       --------------  -----  \n",
      " 0   Year         1284 non-null   int64  \n",
      " 1   District     1284 non-null   object \n",
      " 2   TwoYear      1284 non-null   float64\n",
      " 3   FourYear     1284 non-null   float64\n",
      " 4   NotEnrolled  1284 non-null   float64\n",
      "dtypes: float64(3), int64(1), object(1)\n",
      "memory usage: 50.3+ KB\n"
     ]
    }
   ],
   "source": [
    "#check clean data frame\n",
    "df1.info()"
   ]
  },
  {
   "cell_type": "markdown",
   "metadata": {},
   "source": [
    "The second dataset inlcudes demographic data. It includes raw counts of students broken down by:\n",
    "\n",
    "Year (2014-15 - 2021-22);\n",
    "area (state, county, district, school);\n",
    "demographic"
   ]
  },
  {
   "cell_type": "code",
   "execution_count": 46,
   "metadata": {},
   "outputs": [
    {
     "name": "stderr",
     "output_type": "stream",
     "text": [
      "WARNING:root:Requests made without an app_token will be subject to strict throttling limits.\n"
     ]
    }
   ],
   "source": [
    "#LOAD DISTRICT DEMOGRAPHIC DATA\n",
    "#https://data.wa.gov/education/Report-Card-Enrollment-from-2014-15-to-Current-Yea/rxjk-6ieq\n",
    "\n",
    "#!/usr/bin/env python\n",
    "\n",
    "# make sure to install these packages before running:\n",
    "# pip install pandas\n",
    "# pip install sodapy\n",
    "\n",
    "import pandas as pd\n",
    "from sodapy import Socrata\n",
    "\n",
    "# Unauthenticated client only works with public data sets. Note 'None'\n",
    "# in place of application token, and no username or password:\n",
    "client = Socrata(\"data.wa.gov\", None)\n",
    "\n",
    "# Example authenticated client (needed for non-public datasets):\n",
    "# client = Socrata(data.wa.gov,\n",
    "#                  MyAppToken,\n",
    "#                  username=\"user@example.com\",\n",
    "#                  password=\"AFakePassword\")\n",
    "\n",
    "# All results, returned as JSON from API / converted to Python list of\n",
    "# dictionaries by sodapy.\n",
    "demo = client.get(\"rxjk-6ieq\", limit=200000)\n",
    "\n",
    "# Convert to pandas DataFrame\n",
    "demo_df = pd.DataFrame.from_records(demo)"
   ]
  },
  {
   "cell_type": "code",
   "execution_count": 47,
   "metadata": {},
   "outputs": [],
   "source": [
    "#filter to include all students at the school district level only\n",
    "demo_df=demo_df[demo_df['organizationlevel'].str.contains('District')]\n",
    "demo_df=demo_df[demo_df['gradelevel'].str.contains('AllGrades')]"
   ]
  },
  {
   "cell_type": "code",
   "execution_count": 48,
   "metadata": {},
   "outputs": [],
   "source": [
    "#drop unused columns\n",
    "demo_df.drop(['organizationlevel','county','esdname','schoolname',\n",
    "              'gradelevel', 'dataasof', 'esdorganizationid', 'districtcode',\n",
    "              'districtorganizationid', 'schoolcode', 'schoolorganizationid', 'currentschooltype',\n",
    "              'fostercare', 'non_fostercare', 'students_without_disabilities','students_with_disabilities',\n",
    "              'section_504', 'non_section_504',\n",
    "              'mobile', 'non_mobile', 'military_parent', 'non_military_parent','migrant', 'non_migrant',\n",
    "              'homeless', 'non_homeless',\n",
    "              ],\n",
    "             axis=1, inplace=True)\n",
    "demo_df.reset_index(drop=True, inplace=True)"
   ]
  },
  {
   "cell_type": "code",
   "execution_count": 49,
   "metadata": {},
   "outputs": [],
   "source": [
    "#drop 'School District' after district name to match with df1\n",
    "demo_df['districtname'] = demo_df['districtname'].str.replace(' School District', '')\n",
    "\n",
    "#drop multi-year title from school year to match df1, i.e. 2014-15 == 2014\n",
    "demo_df['schoolyear'] = demo_df['schoolyear'].str[:-3]"
   ]
  },
  {
   "cell_type": "code",
   "execution_count": 50,
   "metadata": {},
   "outputs": [
    {
     "name": "stderr",
     "output_type": "stream",
     "text": [
      "/var/folders/7s/92wdsp7x3jb14hws7v5952t40000gn/T/ipykernel_36088/3780803281.py:4: FutureWarning: In a future version, `df.iloc[:, i] = newvals` will attempt to set the values inplace instead of always setting a new array. To retain the old behavior, use either `df[df.columns[i]] = newvals` or, if columns are non-unique, `df.isetitem(i, newvals)`\n",
      "  demo_df.loc[:,where]=demo_df.loc[:,where].apply(severalToNum)\n"
     ]
    }
   ],
   "source": [
    "#change most columns from characters to numeric\n",
    "severalToNum=lambda x:pd.to_numeric(x,errors='coerce')\n",
    "where=demo_df.columns[2:]\n",
    "demo_df.loc[:,where]=demo_df.loc[:,where].apply(severalToNum)\n",
    "demo_df['schoolyear']=demo_df['schoolyear'].apply(pd.to_numeric, errors = \"coerce\")\n",
    "\n",
    "#change year column from character to numeric\n",
    "demo_df = demo_df[demo_df['schoolyear']<=2019]"
   ]
  },
  {
   "cell_type": "code",
   "execution_count": 51,
   "metadata": {},
   "outputs": [],
   "source": [
    "#rename columns & reset index\n",
    "df2=demo_df\n",
    "df2.rename(columns={'schoolyear': 'Year', 'districtname': 'District'}, inplace=True)\n",
    "df2.reset_index(drop=True, inplace=True)"
   ]
  },
  {
   "cell_type": "code",
   "execution_count": 52,
   "metadata": {},
   "outputs": [],
   "source": [
    "#create rate variables\n",
    "df2['FemalePct'] = df2['female']/df2['all_students']\n",
    "df2['WhitePct'] = df2['white']/df2['all_students']\n",
    "df2['ELLPct'] = df2['english_language_learners']/df2['all_students']\n",
    "df2['LowIncomePct'] = df2['low_income']/df2['all_students']\n",
    "df2['HighlyCapablePct'] = df2['highly_capable']/df2['all_students']\n",
    "#rename all_students variable\n",
    "df2.rename(columns={'all_students': 'TotalStudents'}, inplace=True)"
   ]
  },
  {
   "cell_type": "code",
   "execution_count": 53,
   "outputs": [],
   "source": [
    "#remove unused variables\n",
    "df2.drop(df2.iloc[:, 3:19], axis=1, inplace=True)\n",
    "df2.reset_index(drop=True, inplace=True)"
   ],
   "metadata": {
    "collapsed": false
   }
  },
  {
   "cell_type": "code",
   "execution_count": 54,
   "metadata": {},
   "outputs": [
    {
     "name": "stdout",
     "output_type": "stream",
     "text": [
      "<class 'pandas.core.frame.DataFrame'>\n",
      "RangeIndex: 1928 entries, 0 to 1927\n",
      "Data columns (total 8 columns):\n",
      " #   Column            Non-Null Count  Dtype  \n",
      "---  ------            --------------  -----  \n",
      " 0   Year              1928 non-null   int64  \n",
      " 1   District          1928 non-null   object \n",
      " 2   TotalStudents     1928 non-null   int64  \n",
      " 3   FemalePct         1928 non-null   float64\n",
      " 4   WhitePct          1928 non-null   float64\n",
      " 5   ELLPct            1928 non-null   float64\n",
      " 6   LowIncomePct      1928 non-null   float64\n",
      " 7   HighlyCapablePct  1928 non-null   float64\n",
      "dtypes: float64(5), int64(2), object(1)\n",
      "memory usage: 120.6+ KB\n"
     ]
    }
   ],
   "source": [
    "#check clean data frame\n",
    "df2.info()"
   ]
  },
  {
   "cell_type": "code",
   "execution_count": 55,
   "metadata": {},
   "outputs": [
    {
     "name": "stdout",
     "output_type": "stream",
     "text": [
      "<class 'pandas.core.frame.DataFrame'>\n",
      "Int64Index: 927 entries, 0 to 926\n",
      "Data columns (total 11 columns):\n",
      " #   Column            Non-Null Count  Dtype  \n",
      "---  ------            --------------  -----  \n",
      " 0   Year              927 non-null    int64  \n",
      " 1   District          927 non-null    object \n",
      " 2   TwoYear           927 non-null    float64\n",
      " 3   FourYear          927 non-null    float64\n",
      " 4   NotEnrolled       927 non-null    float64\n",
      " 5   TotalStudents     927 non-null    int64  \n",
      " 6   FemalePct         927 non-null    float64\n",
      " 7   WhitePct          927 non-null    float64\n",
      " 8   ELLPct            927 non-null    float64\n",
      " 9   LowIncomePct      927 non-null    float64\n",
      " 10  HighlyCapablePct  927 non-null    float64\n",
      "dtypes: float64(8), int64(2), object(1)\n",
      "memory usage: 86.9+ KB\n"
     ]
    }
   ],
   "source": [
    "#merge clean dataframes\n",
    "df3 = pd.merge(df1, df2, on=['District', 'Year'])\n",
    "\n",
    "#check merged data\n",
    "df3.info()"
   ]
  },
  {
   "cell_type": "code",
   "execution_count": 56,
   "metadata": {},
   "outputs": [
    {
     "data": {
      "text/plain": "     Year                                 District  TwoYear  FourYear  \\\n0    2014                                 Aberdeen   0.4250     0.180   \n1    2014                                     Adna   0.4200     0.120   \n2    2014                                Anacortes   0.2750     0.425   \n3    2014                                Arlington   0.3000     0.275   \n4    2014                                   Auburn   0.2825     0.325   \n..    ...                                      ...      ...       ...   \n922  2019                           Asotin-Anatone   0.2000     0.420   \n923  2019  Lake Washington Institute of Technology   0.2900     0.240   \n924  2019                            College Place   0.5200     0.190   \n925  2019            Summit Public School: Olympus   0.1500     0.480   \n926  2019             Summit Public School: Sierra   0.2200     0.660   \n\n     NotEnrolled  TotalStudents  FemalePct  WhitePct    ELLPct  LowIncomePct  \\\n0          0.395           3404   0.487955  0.573443  0.098120      0.726204   \n1          0.470            610   0.470492  0.903279  0.000000      0.288525   \n2          0.305           2708   0.494092  0.839734  0.022526      0.331610   \n3          0.425           5575   0.477309  0.787444  0.038924      0.374709   \n4          0.390          15685   0.492828  0.451450  0.149251      0.596047   \n..           ...            ...        ...       ...       ...           ...   \n922        0.370            625   0.502400  0.862400  0.000000      0.379200   \n923        0.470            806   0.423077  0.648883  0.000000      0.000000   \n924        0.290           1629   0.476980  0.495396  0.176796      0.574586   \n925        0.360            183   0.497268  0.267760  0.060109      0.715847   \n926        0.130            344   0.485465  0.316860  0.107558      0.357558   \n\n     HighlyCapablePct  \n0            0.028202  \n1            0.000000  \n2            0.016987  \n3            0.000538  \n4            0.014472  \n..                ...  \n922          0.051200  \n923          0.000000  \n924          0.062615  \n925          0.081967  \n926          0.151163  \n\n[927 rows x 11 columns]",
      "text/html": "<div>\n<style scoped>\n    .dataframe tbody tr th:only-of-type {\n        vertical-align: middle;\n    }\n\n    .dataframe tbody tr th {\n        vertical-align: top;\n    }\n\n    .dataframe thead th {\n        text-align: right;\n    }\n</style>\n<table border=\"1\" class=\"dataframe\">\n  <thead>\n    <tr style=\"text-align: right;\">\n      <th></th>\n      <th>Year</th>\n      <th>District</th>\n      <th>TwoYear</th>\n      <th>FourYear</th>\n      <th>NotEnrolled</th>\n      <th>TotalStudents</th>\n      <th>FemalePct</th>\n      <th>WhitePct</th>\n      <th>ELLPct</th>\n      <th>LowIncomePct</th>\n      <th>HighlyCapablePct</th>\n    </tr>\n  </thead>\n  <tbody>\n    <tr>\n      <th>0</th>\n      <td>2014</td>\n      <td>Aberdeen</td>\n      <td>0.4250</td>\n      <td>0.180</td>\n      <td>0.395</td>\n      <td>3404</td>\n      <td>0.487955</td>\n      <td>0.573443</td>\n      <td>0.098120</td>\n      <td>0.726204</td>\n      <td>0.028202</td>\n    </tr>\n    <tr>\n      <th>1</th>\n      <td>2014</td>\n      <td>Adna</td>\n      <td>0.4200</td>\n      <td>0.120</td>\n      <td>0.470</td>\n      <td>610</td>\n      <td>0.470492</td>\n      <td>0.903279</td>\n      <td>0.000000</td>\n      <td>0.288525</td>\n      <td>0.000000</td>\n    </tr>\n    <tr>\n      <th>2</th>\n      <td>2014</td>\n      <td>Anacortes</td>\n      <td>0.2750</td>\n      <td>0.425</td>\n      <td>0.305</td>\n      <td>2708</td>\n      <td>0.494092</td>\n      <td>0.839734</td>\n      <td>0.022526</td>\n      <td>0.331610</td>\n      <td>0.016987</td>\n    </tr>\n    <tr>\n      <th>3</th>\n      <td>2014</td>\n      <td>Arlington</td>\n      <td>0.3000</td>\n      <td>0.275</td>\n      <td>0.425</td>\n      <td>5575</td>\n      <td>0.477309</td>\n      <td>0.787444</td>\n      <td>0.038924</td>\n      <td>0.374709</td>\n      <td>0.000538</td>\n    </tr>\n    <tr>\n      <th>4</th>\n      <td>2014</td>\n      <td>Auburn</td>\n      <td>0.2825</td>\n      <td>0.325</td>\n      <td>0.390</td>\n      <td>15685</td>\n      <td>0.492828</td>\n      <td>0.451450</td>\n      <td>0.149251</td>\n      <td>0.596047</td>\n      <td>0.014472</td>\n    </tr>\n    <tr>\n      <th>...</th>\n      <td>...</td>\n      <td>...</td>\n      <td>...</td>\n      <td>...</td>\n      <td>...</td>\n      <td>...</td>\n      <td>...</td>\n      <td>...</td>\n      <td>...</td>\n      <td>...</td>\n      <td>...</td>\n    </tr>\n    <tr>\n      <th>922</th>\n      <td>2019</td>\n      <td>Asotin-Anatone</td>\n      <td>0.2000</td>\n      <td>0.420</td>\n      <td>0.370</td>\n      <td>625</td>\n      <td>0.502400</td>\n      <td>0.862400</td>\n      <td>0.000000</td>\n      <td>0.379200</td>\n      <td>0.051200</td>\n    </tr>\n    <tr>\n      <th>923</th>\n      <td>2019</td>\n      <td>Lake Washington Institute of Technology</td>\n      <td>0.2900</td>\n      <td>0.240</td>\n      <td>0.470</td>\n      <td>806</td>\n      <td>0.423077</td>\n      <td>0.648883</td>\n      <td>0.000000</td>\n      <td>0.000000</td>\n      <td>0.000000</td>\n    </tr>\n    <tr>\n      <th>924</th>\n      <td>2019</td>\n      <td>College Place</td>\n      <td>0.5200</td>\n      <td>0.190</td>\n      <td>0.290</td>\n      <td>1629</td>\n      <td>0.476980</td>\n      <td>0.495396</td>\n      <td>0.176796</td>\n      <td>0.574586</td>\n      <td>0.062615</td>\n    </tr>\n    <tr>\n      <th>925</th>\n      <td>2019</td>\n      <td>Summit Public School: Olympus</td>\n      <td>0.1500</td>\n      <td>0.480</td>\n      <td>0.360</td>\n      <td>183</td>\n      <td>0.497268</td>\n      <td>0.267760</td>\n      <td>0.060109</td>\n      <td>0.715847</td>\n      <td>0.081967</td>\n    </tr>\n    <tr>\n      <th>926</th>\n      <td>2019</td>\n      <td>Summit Public School: Sierra</td>\n      <td>0.2200</td>\n      <td>0.660</td>\n      <td>0.130</td>\n      <td>344</td>\n      <td>0.485465</td>\n      <td>0.316860</td>\n      <td>0.107558</td>\n      <td>0.357558</td>\n      <td>0.151163</td>\n    </tr>\n  </tbody>\n</table>\n<p>927 rows × 11 columns</p>\n</div>"
     },
     "execution_count": 56,
     "metadata": {},
     "output_type": "execute_result"
    }
   ],
   "source": [
    "#print merged data\n",
    "df3"
   ]
  },
  {
   "cell_type": "code",
   "execution_count": 57,
   "metadata": {
    "scrolled": true
   },
   "outputs": [],
   "source": [
    "#write merged data to csv\n",
    "df3.to_csv('waenrolldf.csv', index=False)"
   ]
  },
  {
   "cell_type": "code",
   "execution_count": 57,
   "outputs": [],
   "source": [],
   "metadata": {
    "collapsed": false
   }
  }
 ],
 "metadata": {
  "kernelspec": {
   "display_name": "Python 3 (ipykernel)",
   "language": "python",
   "name": "python3"
  },
  "language_info": {
   "codemirror_mode": {
    "name": "ipython",
    "version": 3
   },
   "file_extension": ".py",
   "mimetype": "text/x-python",
   "name": "python",
   "nbconvert_exporter": "python",
   "pygments_lexer": "ipython3",
   "version": "3.9.13"
  }
 },
 "nbformat": 4,
 "nbformat_minor": 1
}
