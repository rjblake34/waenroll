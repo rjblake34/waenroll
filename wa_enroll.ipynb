{
 "cells": [
  {
   "cell_type": "markdown",
   "source": [
    "This project explores demographic differences in immediate postsecondary enrollment among Washington high school graduates. It uses public data from data.wa.gov.\n",
    "The first dataset includes data related to postseconary enrollment rates. It’s broken down by:\n",
    "Year (2005-2019); area (state, county, district, school); demographic (sex, race, income, etc); and institution type (2 year, 4 year, or not enrolled) For now, I will arrange the data for all students at the county level."
   ],
   "metadata": {
    "collapsed": false
   }
  },
  {
   "cell_type": "code",
   "execution_count": 1,
   "outputs": [
    {
     "name": "stderr",
     "output_type": "stream",
     "text": [
      "WARNING:root:Requests made without an app_token will be subject to strict throttling limits.\n"
     ]
    }
   ],
   "source": [
    "#READ IN HIGH SCHOOL GRADUATE OUTCOMES - FIRST YEAR ENROLLMENT\n",
    "#https://data.wa.gov/Education/High-School-Graduate-Outcomes-First-Year-Enrollmen/vk6s-am8z\n",
    "\n",
    "#!/usr/bin/env python\n",
    "\n",
    "# make sure to install these packages before running:\n",
    "# pip install pandas\n",
    "# pip install sodapy\n",
    "\n",
    "import pandas as pd\n",
    "from sodapy import Socrata\n",
    "\n",
    "# Unauthenticated client only works with public data sets. Note 'None'\n",
    "# in place of application token, and no username or password:\n",
    "client = Socrata(\"data.wa.gov\", None)\n",
    "\n",
    "# Example authenticated client (needed for non-public datasets):\n",
    "# client = Socrata(data.wa.gov,\n",
    "#                  MyAppToken,\n",
    "#                  username=\"user@example.com\",\n",
    "#                  password=\"AFakePassword\")\n",
    "\n",
    "# All results, returned as JSON from API / converted to Python list of\n",
    "# dictionaries by sodapy.\n",
    "results = client.get(\"7ma7-qs6m\", limit=400000)\n",
    "\n",
    "# Convert to pandas DataFrame\n",
    "enrollment_df = pd.DataFrame.from_records(results)"
   ],
   "metadata": {
    "collapsed": false
   }
  },
  {
   "cell_type": "code",
   "execution_count": 2,
   "outputs": [],
   "source": [
    "#filter to include all students at the county level only\n",
    "enrollment_df=enrollment_df[enrollment_df['districttype'].str.contains('School Dist')]\n",
    "enrollment_df=enrollment_df[enrollment_df['demotype'].str.contains('All Students')]\n",
    "enrollment_df=enrollment_df[enrollment_df['cohorttype'].str.contains('1yr')]"
   ],
   "metadata": {
    "collapsed": false
   }
  },
  {
   "cell_type": "code",
   "execution_count": 3,
   "outputs": [],
   "source": [
    "#drop unused columns\n",
    "enrollment_df.drop(['districttype','schoolttl','redactedpct','demotype',\n",
    "                    'demographicgroup', 'demographicvalue', 'redactedpct', 'cohorttype'],\n",
    "                   axis=1, inplace=True)\n",
    "enrollment_df.reset_index(drop=True, inplace=True)"
   ],
   "metadata": {
    "collapsed": false
   }
  },
  {
   "cell_type": "code",
   "execution_count": 4,
   "outputs": [],
   "source": [
    "#change value 'pct' from object to number\n",
    "enrollment_df['pct']=enrollment_df['pct'].apply(pd.to_numeric, errors='coerce')\n",
    "enrollment_df['cohortyearttl']=enrollment_df['cohortyearttl'].apply(pd.to_numeric, errors='coerce')"
   ],
   "metadata": {
    "collapsed": false
   }
  },
  {
   "cell_type": "code",
   "execution_count": 5,
   "outputs": [],
   "source": [
    "enrollment_df=enrollment_df[enrollment_df['cohortyearttl']>=2014]"
   ],
   "metadata": {
    "collapsed": false
   }
  },
  {
   "cell_type": "code",
   "execution_count": 6,
   "outputs": [],
   "source": [
    "#pivot from long to wide data frame and reset index\n",
    "df1=pd.pivot_table(enrollment_df,\n",
    "                   index=['cohortyearttl','districtttl'],\n",
    "                   columns='psenrolllevel',\n",
    "                   values='pct').reset_index()\n",
    "\n",
    "#remove index name\n",
    "df1.index.name = df1.columns.name = None\n",
    "\n",
    "#rename columns\n",
    "df1.rename(columns={'cohortyearttl': 'Year', 'districtttl': 'District', '2 Year / CTC' : '2 Year'}, inplace=True)"
   ],
   "metadata": {
    "collapsed": false
   }
  },
  {
   "cell_type": "markdown",
   "source": [
    "The next dataset inlcudes demographic data. It includes raw counts of students broken down by:\n",
    "\n",
    "Year (2014-15 - 2021-22);\n",
    "area (state, county, district, school);\n",
    "demographic\n",
    "For now, I will arrange the data for all students at the county level."
   ],
   "metadata": {
    "collapsed": false
   }
  },
  {
   "cell_type": "code",
   "execution_count": 7,
   "outputs": [
    {
     "name": "stderr",
     "output_type": "stream",
     "text": [
      "WARNING:root:Requests made without an app_token will be subject to strict throttling limits.\n"
     ]
    }
   ],
   "source": [
    "#LOAD DISTRICT DEMOGRAPHIC DATA\n",
    "#https://data.wa.gov/education/Report-Card-Enrollment-from-2014-15-to-Current-Yea/rxjk-6ieq\n",
    "\n",
    "#!/usr/bin/env python\n",
    "\n",
    "# make sure to install these packages before running:\n",
    "# pip install pandas\n",
    "# pip install sodapy\n",
    "\n",
    "import pandas as pd\n",
    "from sodapy import Socrata\n",
    "\n",
    "# Unauthenticated client only works with public data sets. Note 'None'\n",
    "# in place of application token, and no username or password:\n",
    "client = Socrata(\"data.wa.gov\", None)\n",
    "\n",
    "# Example authenticated client (needed for non-public datasets):\n",
    "# client = Socrata(data.wa.gov,\n",
    "#                  MyAppToken,\n",
    "#                  username=\"user@example.com\",\n",
    "#                  password=\"AFakePassword\")\n",
    "\n",
    "# All results, returned as JSON from API / converted to Python list of\n",
    "# dictionaries by sodapy.\n",
    "demo = client.get(\"rxjk-6ieq\", limit=200000)\n",
    "\n",
    "# Convert to pandas DataFrame\n",
    "demo_df = pd.DataFrame.from_records(demo)"
   ],
   "metadata": {
    "collapsed": false
   }
  },
  {
   "cell_type": "code",
   "execution_count": 8,
   "outputs": [],
   "source": [
    "#filter to include all students at the county level only\n",
    "demo_df=demo_df[demo_df['organizationlevel'].str.contains('District')]\n",
    "demo_df=demo_df[demo_df['gradelevel'].str.contains('AllGrades')]"
   ],
   "metadata": {
    "collapsed": false
   }
  },
  {
   "cell_type": "code",
   "execution_count": 9,
   "outputs": [],
   "source": [
    "#drop unused columns\n",
    "demo_df.drop(['organizationlevel','county','esdname','schoolname',\n",
    "              'gradelevel', 'dataasof', 'esdorganizationid', 'districtcode',\n",
    "              'districtorganizationid', 'schoolcode', 'schoolorganizationid', 'currentschooltype',\n",
    "              'fostercare', 'non_fostercare', 'students_without_disabilities','students_with_disabilities',\n",
    "              'section_504', 'non_section_504',\n",
    "              'mobile', 'non_mobile', 'military_parent', 'non_military_parent','migrant', 'non_migrant',\n",
    "              'homeless', 'non_homeless',\n",
    "              ],\n",
    "             axis=1, inplace=True)\n",
    "demo_df.reset_index(drop=True, inplace=True)"
   ],
   "metadata": {
    "collapsed": false
   }
  },
  {
   "cell_type": "code",
   "execution_count": 10,
   "outputs": [],
   "source": [
    "demo_df['districtname'] = demo_df['districtname'].str.replace(' School District', '')\n",
    "demo_df['schoolyear'] = demo_df['schoolyear'].str[:-3]"
   ],
   "metadata": {
    "collapsed": false
   }
  },
  {
   "cell_type": "code",
   "execution_count": 11,
   "outputs": [
    {
     "name": "stderr",
     "output_type": "stream",
     "text": [
      "/var/folders/7s/92wdsp7x3jb14hws7v5952t40000gn/T/ipykernel_97442/3146815522.py:5: FutureWarning: In a future version, `df.iloc[:, i] = newvals` will attempt to set the values inplace instead of always setting a new array. To retain the old behavior, use either `df[df.columns[i]] = newvals` or, if columns are non-unique, `df.isetitem(i, newvals)`\n",
      "  demo_df.loc[:,where]=demo_df.loc[:,where].apply(severalToNum)\n"
     ]
    }
   ],
   "source": [
    "severalToNum=lambda x:pd.to_numeric(x,errors='coerce')\n",
    "\n",
    "where=demo_df.columns[2:]\n",
    "\n",
    "demo_df.loc[:,where]=demo_df.loc[:,where].apply(severalToNum)\n",
    "demo_df['schoolyear']=demo_df['schoolyear'].apply(pd.to_numeric, errors = \"coerce\")\n",
    "\n",
    "demo_df = demo_df[demo_df['schoolyear']<=2019]"
   ],
   "metadata": {
    "collapsed": false
   }
  },
  {
   "cell_type": "code",
   "execution_count": 12,
   "outputs": [],
   "source": [
    "df2=demo_df\n",
    "df2.rename(columns={'schoolyear': 'Year', 'districtname': 'District'}, inplace=True)\n",
    "df2.reset_index(drop=True, inplace=True)"
   ],
   "metadata": {
    "collapsed": false
   }
  },
  {
   "cell_type": "code",
   "execution_count": 13,
   "outputs": [
    {
     "name": "stdout",
     "output_type": "stream",
     "text": [
      "<class 'pandas.core.frame.DataFrame'>\n",
      "RangeIndex: 1066 entries, 0 to 1065\n",
      "Data columns (total 5 columns):\n",
      " #   Column        Non-Null Count  Dtype  \n",
      "---  ------        --------------  -----  \n",
      " 0   Year          1066 non-null   int64  \n",
      " 1   District      1066 non-null   object \n",
      " 2   2 Year        1066 non-null   float64\n",
      " 3   4 Year        1066 non-null   float64\n",
      " 4   Not Enrolled  1066 non-null   float64\n",
      "dtypes: float64(3), int64(1), object(1)\n",
      "memory usage: 41.8+ KB\n"
     ]
    }
   ],
   "source": [
    "df1.info()"
   ],
   "metadata": {
    "collapsed": false
   }
  },
  {
   "cell_type": "code",
   "execution_count": 14,
   "outputs": [
    {
     "name": "stdout",
     "output_type": "stream",
     "text": [
      "<class 'pandas.core.frame.DataFrame'>\n",
      "RangeIndex: 1928 entries, 0 to 1927\n",
      "Data columns (total 19 columns):\n",
      " #   Column                          Non-Null Count  Dtype \n",
      "---  ------                          --------------  ----- \n",
      " 0   Year                            1928 non-null   int64 \n",
      " 1   District                        1928 non-null   object\n",
      " 2   all_students                    1928 non-null   int64 \n",
      " 3   female                          1928 non-null   int64 \n",
      " 4   male                            1928 non-null   int64 \n",
      " 5   gender_x                        1928 non-null   int64 \n",
      " 6   american_indian_alaskan_native  1928 non-null   int64 \n",
      " 7   asian                           1928 non-null   int64 \n",
      " 8   black_african_american          1928 non-null   int64 \n",
      " 9   hispanic_latino_of_any_race     1928 non-null   int64 \n",
      " 10  native_hawaiian_other_pacific   1928 non-null   int64 \n",
      " 11  two_or_more_races               1928 non-null   int64 \n",
      " 12  white                           1928 non-null   int64 \n",
      " 13  english_language_learners       1928 non-null   int64 \n",
      " 14  highly_capable                  1928 non-null   int64 \n",
      " 15  low_income                      1928 non-null   int64 \n",
      " 16  non_english_language_learners   1928 non-null   int64 \n",
      " 17  non_highly_capable              1928 non-null   int64 \n",
      " 18  non_low_income                  1928 non-null   int64 \n",
      "dtypes: int64(18), object(1)\n",
      "memory usage: 286.3+ KB\n"
     ]
    }
   ],
   "source": [
    "df2.info()"
   ],
   "metadata": {
    "collapsed": false
   }
  },
  {
   "cell_type": "code",
   "execution_count": 15,
   "outputs": [
    {
     "data": {
      "text/plain": "<bound method DataFrame.info of       Year             District  2 Year    4 Year  Not Enrolled  all_students  \\\n0     2014             Aberdeen   0.440  0.180000      0.385000          3404   \n1     2014                 Adna   0.420  0.120000      0.470000           610   \n2     2014            Anacortes   0.275  0.420000      0.310000          2708   \n3     2014            Arlington   0.310  0.275000      0.415000          5575   \n4     2014               Auburn   0.285  0.325000      0.387500         15685   \n...    ...                  ...     ...       ...           ...           ...   \n1019  2019  White Salmon Valley   0.120  0.375000      0.510000          1285   \n1020  2019             Woodland   0.245  0.130000      0.625000          2535   \n1021  2019               Yakima   0.280  0.266667      0.453333         16419   \n1022  2019                 Yelm   0.185  0.285000      0.530000          5902   \n1023  2019               Zillah   0.310  0.220000      0.470000          1335   \n\n      female  male  gender_x  american_indian_alaskan_native  ...  \\\n0       1661  1743         0                             145  ...   \n1        287   323         0                               3  ...   \n2       1338  1370         0                              20  ...   \n3       2661  2914         0                              63  ...   \n4       7730  7955         0                             221  ...   \n...      ...   ...       ...                             ...  ...   \n1019     591   693         1                              10  ...   \n1020    1193  1342         0                               8  ...   \n1021    8126  8293         0                             150  ...   \n1022    2813  3085         4                             108  ...   \n1023     620   715         0                              52  ...   \n\n      hispanic_latino_of_any_race  native_hawaiian_other_pacific  \\\n0                            1003                             10   \n1                              35                              0   \n2                             226                              8   \n3                             667                             30   \n4                            4148                            530   \n...                           ...                            ...   \n1019                          406                              2   \n1020                          571                              2   \n1021                        13058                             18   \n1022                          937                             89   \n1023                          723                              0   \n\n      two_or_more_races  white  english_language_learners  highly_capable  \\\n0                   162   1952                        334              96   \n1                    14    551                          0               0   \n2                    44   2274                         61              46   \n3                   279   4390                        217               3   \n4                  1444   7081                       2341             227   \n...                 ...    ...                        ...             ...   \n1019                 42    819                        196             100   \n1020                 99   1821                        213             170   \n1021                396   2642                       4947             462   \n1022                686   3924                        165             357   \n1023                 53    502                        144              46   \n\n      low_income  non_english_language_learners  non_highly_capable  \\\n0           2472                           3070                3308   \n1            176                            610                 610   \n2            898                           2647                2662   \n3           2089                           5358                5572   \n4           9349                          13344               15458   \n...          ...                            ...                 ...   \n1019         589                           1089                1185   \n1020        1228                           2322                2365   \n1021       13681                          11472               15957   \n1022        3001                           5737                5545   \n1023         789                           1191                1289   \n\n      non_low_income  \n0                932  \n1                434  \n2               1810  \n3               3486  \n4               6336  \n...              ...  \n1019             696  \n1020            1307  \n1021            2738  \n1022            2901  \n1023             546  \n\n[1024 rows x 22 columns]>"
     },
     "execution_count": 15,
     "metadata": {},
     "output_type": "execute_result"
    }
   ],
   "source": [
    "df3 = pd.merge(df1, df2, on=['District', 'Year'])\n",
    "df3.info"
   ],
   "metadata": {
    "collapsed": false
   }
  },
  {
   "cell_type": "code",
   "execution_count": 16,
   "outputs": [
    {
     "data": {
      "text/plain": "      Year             District  2 Year    4 Year  Not Enrolled  all_students  \\\n0     2014             Aberdeen   0.440  0.180000      0.385000          3404   \n1     2014                 Adna   0.420  0.120000      0.470000           610   \n2     2014            Anacortes   0.275  0.420000      0.310000          2708   \n3     2014            Arlington   0.310  0.275000      0.415000          5575   \n4     2014               Auburn   0.285  0.325000      0.387500         15685   \n...    ...                  ...     ...       ...           ...           ...   \n1019  2019  White Salmon Valley   0.120  0.375000      0.510000          1285   \n1020  2019             Woodland   0.245  0.130000      0.625000          2535   \n1021  2019               Yakima   0.280  0.266667      0.453333         16419   \n1022  2019                 Yelm   0.185  0.285000      0.530000          5902   \n1023  2019               Zillah   0.310  0.220000      0.470000          1335   \n\n      female  male  gender_x  american_indian_alaskan_native  ...  \\\n0       1661  1743         0                             145  ...   \n1        287   323         0                               3  ...   \n2       1338  1370         0                              20  ...   \n3       2661  2914         0                              63  ...   \n4       7730  7955         0                             221  ...   \n...      ...   ...       ...                             ...  ...   \n1019     591   693         1                              10  ...   \n1020    1193  1342         0                               8  ...   \n1021    8126  8293         0                             150  ...   \n1022    2813  3085         4                             108  ...   \n1023     620   715         0                              52  ...   \n\n      hispanic_latino_of_any_race  native_hawaiian_other_pacific  \\\n0                            1003                             10   \n1                              35                              0   \n2                             226                              8   \n3                             667                             30   \n4                            4148                            530   \n...                           ...                            ...   \n1019                          406                              2   \n1020                          571                              2   \n1021                        13058                             18   \n1022                          937                             89   \n1023                          723                              0   \n\n      two_or_more_races  white  english_language_learners  highly_capable  \\\n0                   162   1952                        334              96   \n1                    14    551                          0               0   \n2                    44   2274                         61              46   \n3                   279   4390                        217               3   \n4                  1444   7081                       2341             227   \n...                 ...    ...                        ...             ...   \n1019                 42    819                        196             100   \n1020                 99   1821                        213             170   \n1021                396   2642                       4947             462   \n1022                686   3924                        165             357   \n1023                 53    502                        144              46   \n\n      low_income  non_english_language_learners  non_highly_capable  \\\n0           2472                           3070                3308   \n1            176                            610                 610   \n2            898                           2647                2662   \n3           2089                           5358                5572   \n4           9349                          13344               15458   \n...          ...                            ...                 ...   \n1019         589                           1089                1185   \n1020        1228                           2322                2365   \n1021       13681                          11472               15957   \n1022        3001                           5737                5545   \n1023         789                           1191                1289   \n\n      non_low_income  \n0                932  \n1                434  \n2               1810  \n3               3486  \n4               6336  \n...              ...  \n1019             696  \n1020            1307  \n1021            2738  \n1022            2901  \n1023             546  \n\n[1024 rows x 22 columns]",
      "text/html": "<div>\n<style scoped>\n    .dataframe tbody tr th:only-of-type {\n        vertical-align: middle;\n    }\n\n    .dataframe tbody tr th {\n        vertical-align: top;\n    }\n\n    .dataframe thead th {\n        text-align: right;\n    }\n</style>\n<table border=\"1\" class=\"dataframe\">\n  <thead>\n    <tr style=\"text-align: right;\">\n      <th></th>\n      <th>Year</th>\n      <th>District</th>\n      <th>2 Year</th>\n      <th>4 Year</th>\n      <th>Not Enrolled</th>\n      <th>all_students</th>\n      <th>female</th>\n      <th>male</th>\n      <th>gender_x</th>\n      <th>american_indian_alaskan_native</th>\n      <th>...</th>\n      <th>hispanic_latino_of_any_race</th>\n      <th>native_hawaiian_other_pacific</th>\n      <th>two_or_more_races</th>\n      <th>white</th>\n      <th>english_language_learners</th>\n      <th>highly_capable</th>\n      <th>low_income</th>\n      <th>non_english_language_learners</th>\n      <th>non_highly_capable</th>\n      <th>non_low_income</th>\n    </tr>\n  </thead>\n  <tbody>\n    <tr>\n      <th>0</th>\n      <td>2014</td>\n      <td>Aberdeen</td>\n      <td>0.440</td>\n      <td>0.180000</td>\n      <td>0.385000</td>\n      <td>3404</td>\n      <td>1661</td>\n      <td>1743</td>\n      <td>0</td>\n      <td>145</td>\n      <td>...</td>\n      <td>1003</td>\n      <td>10</td>\n      <td>162</td>\n      <td>1952</td>\n      <td>334</td>\n      <td>96</td>\n      <td>2472</td>\n      <td>3070</td>\n      <td>3308</td>\n      <td>932</td>\n    </tr>\n    <tr>\n      <th>1</th>\n      <td>2014</td>\n      <td>Adna</td>\n      <td>0.420</td>\n      <td>0.120000</td>\n      <td>0.470000</td>\n      <td>610</td>\n      <td>287</td>\n      <td>323</td>\n      <td>0</td>\n      <td>3</td>\n      <td>...</td>\n      <td>35</td>\n      <td>0</td>\n      <td>14</td>\n      <td>551</td>\n      <td>0</td>\n      <td>0</td>\n      <td>176</td>\n      <td>610</td>\n      <td>610</td>\n      <td>434</td>\n    </tr>\n    <tr>\n      <th>2</th>\n      <td>2014</td>\n      <td>Anacortes</td>\n      <td>0.275</td>\n      <td>0.420000</td>\n      <td>0.310000</td>\n      <td>2708</td>\n      <td>1338</td>\n      <td>1370</td>\n      <td>0</td>\n      <td>20</td>\n      <td>...</td>\n      <td>226</td>\n      <td>8</td>\n      <td>44</td>\n      <td>2274</td>\n      <td>61</td>\n      <td>46</td>\n      <td>898</td>\n      <td>2647</td>\n      <td>2662</td>\n      <td>1810</td>\n    </tr>\n    <tr>\n      <th>3</th>\n      <td>2014</td>\n      <td>Arlington</td>\n      <td>0.310</td>\n      <td>0.275000</td>\n      <td>0.415000</td>\n      <td>5575</td>\n      <td>2661</td>\n      <td>2914</td>\n      <td>0</td>\n      <td>63</td>\n      <td>...</td>\n      <td>667</td>\n      <td>30</td>\n      <td>279</td>\n      <td>4390</td>\n      <td>217</td>\n      <td>3</td>\n      <td>2089</td>\n      <td>5358</td>\n      <td>5572</td>\n      <td>3486</td>\n    </tr>\n    <tr>\n      <th>4</th>\n      <td>2014</td>\n      <td>Auburn</td>\n      <td>0.285</td>\n      <td>0.325000</td>\n      <td>0.387500</td>\n      <td>15685</td>\n      <td>7730</td>\n      <td>7955</td>\n      <td>0</td>\n      <td>221</td>\n      <td>...</td>\n      <td>4148</td>\n      <td>530</td>\n      <td>1444</td>\n      <td>7081</td>\n      <td>2341</td>\n      <td>227</td>\n      <td>9349</td>\n      <td>13344</td>\n      <td>15458</td>\n      <td>6336</td>\n    </tr>\n    <tr>\n      <th>...</th>\n      <td>...</td>\n      <td>...</td>\n      <td>...</td>\n      <td>...</td>\n      <td>...</td>\n      <td>...</td>\n      <td>...</td>\n      <td>...</td>\n      <td>...</td>\n      <td>...</td>\n      <td>...</td>\n      <td>...</td>\n      <td>...</td>\n      <td>...</td>\n      <td>...</td>\n      <td>...</td>\n      <td>...</td>\n      <td>...</td>\n      <td>...</td>\n      <td>...</td>\n      <td>...</td>\n    </tr>\n    <tr>\n      <th>1019</th>\n      <td>2019</td>\n      <td>White Salmon Valley</td>\n      <td>0.120</td>\n      <td>0.375000</td>\n      <td>0.510000</td>\n      <td>1285</td>\n      <td>591</td>\n      <td>693</td>\n      <td>1</td>\n      <td>10</td>\n      <td>...</td>\n      <td>406</td>\n      <td>2</td>\n      <td>42</td>\n      <td>819</td>\n      <td>196</td>\n      <td>100</td>\n      <td>589</td>\n      <td>1089</td>\n      <td>1185</td>\n      <td>696</td>\n    </tr>\n    <tr>\n      <th>1020</th>\n      <td>2019</td>\n      <td>Woodland</td>\n      <td>0.245</td>\n      <td>0.130000</td>\n      <td>0.625000</td>\n      <td>2535</td>\n      <td>1193</td>\n      <td>1342</td>\n      <td>0</td>\n      <td>8</td>\n      <td>...</td>\n      <td>571</td>\n      <td>2</td>\n      <td>99</td>\n      <td>1821</td>\n      <td>213</td>\n      <td>170</td>\n      <td>1228</td>\n      <td>2322</td>\n      <td>2365</td>\n      <td>1307</td>\n    </tr>\n    <tr>\n      <th>1021</th>\n      <td>2019</td>\n      <td>Yakima</td>\n      <td>0.280</td>\n      <td>0.266667</td>\n      <td>0.453333</td>\n      <td>16419</td>\n      <td>8126</td>\n      <td>8293</td>\n      <td>0</td>\n      <td>150</td>\n      <td>...</td>\n      <td>13058</td>\n      <td>18</td>\n      <td>396</td>\n      <td>2642</td>\n      <td>4947</td>\n      <td>462</td>\n      <td>13681</td>\n      <td>11472</td>\n      <td>15957</td>\n      <td>2738</td>\n    </tr>\n    <tr>\n      <th>1022</th>\n      <td>2019</td>\n      <td>Yelm</td>\n      <td>0.185</td>\n      <td>0.285000</td>\n      <td>0.530000</td>\n      <td>5902</td>\n      <td>2813</td>\n      <td>3085</td>\n      <td>4</td>\n      <td>108</td>\n      <td>...</td>\n      <td>937</td>\n      <td>89</td>\n      <td>686</td>\n      <td>3924</td>\n      <td>165</td>\n      <td>357</td>\n      <td>3001</td>\n      <td>5737</td>\n      <td>5545</td>\n      <td>2901</td>\n    </tr>\n    <tr>\n      <th>1023</th>\n      <td>2019</td>\n      <td>Zillah</td>\n      <td>0.310</td>\n      <td>0.220000</td>\n      <td>0.470000</td>\n      <td>1335</td>\n      <td>620</td>\n      <td>715</td>\n      <td>0</td>\n      <td>52</td>\n      <td>...</td>\n      <td>723</td>\n      <td>0</td>\n      <td>53</td>\n      <td>502</td>\n      <td>144</td>\n      <td>46</td>\n      <td>789</td>\n      <td>1191</td>\n      <td>1289</td>\n      <td>546</td>\n    </tr>\n  </tbody>\n</table>\n<p>1024 rows × 22 columns</p>\n</div>"
     },
     "execution_count": 16,
     "metadata": {},
     "output_type": "execute_result"
    }
   ],
   "source": [
    "df3"
   ],
   "metadata": {
    "collapsed": false
   }
  }
 ],
 "metadata": {
  "kernelspec": {
   "display_name": "Python 3",
   "language": "python",
   "name": "python3"
  },
  "language_info": {
   "codemirror_mode": {
    "name": "ipython",
    "version": 2
   },
   "file_extension": ".py",
   "mimetype": "text/x-python",
   "name": "python",
   "nbconvert_exporter": "python",
   "pygments_lexer": "ipython2",
   "version": "2.7.6"
  }
 },
 "nbformat": 4,
 "nbformat_minor": 0
}
